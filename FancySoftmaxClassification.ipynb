{
  "nbformat": 4,
  "nbformat_minor": 0,
  "metadata": {
    "colab": {
      "name": "FancySoftmaxClassification.ipynb",
      "provenance": [],
      "private_outputs": true,
      "authorship_tag": "ABX9TyOfgqJz/aehinAGLunQTwgR"
    },
    "kernelspec": {
      "name": "python3",
      "display_name": "Python 3"
    }
  },
  "cells": [
    {
      "cell_type": "code",
      "metadata": {
        "id": "9RCS1p7pbWL4"
      },
      "source": [
        "# Lab 6 Softmax Classifier\n",
        "import tensorflow as tf\n",
        "import numpy as np\n",
        "\n",
        "# Predicting animal type based on various features\n",
        "xy = np.loadtxt('/content/data-04-zoo.csv', delimiter=',', dtype=np.float32)\n",
        "x_data = xy[:, 0:-1]\n",
        "y_data = xy[:, [-1]]\n",
        "\n",
        "print(x_data.shape, y_data.shape)\n",
        "\n",
        "'''\n",
        "(101, 16) (101, 1)\n",
        "'''\n",
        "\n",
        "nb_classes = 7  # 0 ~ 6 동물의 숫자가 7개니까 0~6개 사이의 숫자를 선택하는 것\n",
        "\n",
        "# Convert y_data to one_hot\n",
        "y_one_hot = tf.keras.utils.to_categorical(y_data, nb_classes)\n",
        "print(\"one_hot:\", y_one_hot)\n",
        "\n",
        "tf.model = tf.keras.Sequential()\n",
        "tf.model.add(tf.keras.layers.Dense(units=nb_classes, input_dim=16, activation='softmax'))\n",
        "tf.model.compile(loss='categorical_crossentropy', optimizer=tf.keras.optimizers.SGD(lr=0.1), metrics=['accuracy'])\n",
        "tf.model.summary()\n",
        "\n",
        "history = tf.model.fit(x_data, y_one_hot, epochs=10)\n",
        "\n",
        "# Single data test\n",
        "test_data = np.array([[0, 0, 1, 0, 0, 1, 1, 1, 1, 0, 0, 1, 0, 1, 0, 0]]) # expected prediction == 3 (feathers)\n",
        "print(tf.model.predict(test_data), tf.model.predict_classes(test_data))\n",
        "\n",
        "# Full x_data test\n",
        "pred = tf.model.predict_classes(x_data)\n",
        "for p, y in zip(pred, y_data.flatten()):\n",
        "    print(\"[{}] Prediction: {} True Y: {}\".format(p == int(y), p, int(y)))"
      ],
      "execution_count": null,
      "outputs": []
    }
  ]
}