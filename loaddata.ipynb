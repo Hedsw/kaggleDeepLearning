{
  "nbformat": 4,
  "nbformat_minor": 0,
  "metadata": {
    "colab": {
      "name": "loaddata.ipynb",
      "provenance": [],
      "private_outputs": true,
      "authorship_tag": "ABX9TyOnrEGIVBEHPHTgemSZgtTe",
      "include_colab_link": true
    },
    "kernelspec": {
      "name": "python3",
      "display_name": "Python 3"
    }
  },
  "cells": [
    {
      "cell_type": "markdown",
      "metadata": {
        "id": "view-in-github",
        "colab_type": "text"
      },
      "source": [
        "<a href=\"https://colab.research.google.com/github/Hedsw/kaggleDeepLearning/blob/main/loaddata.ipynb\" target=\"_parent\"><img src=\"https://colab.research.google.com/assets/colab-badge.svg\" alt=\"Open In Colab\"/></a>"
      ]
    },
    {
      "cell_type": "code",
      "metadata": {
        "id": "Nvt0g9C2DuCj"
      },
      "source": [
        "# Declare Libraries\n",
        "import os\n",
        "import tensorflow.compat.v1 as tf\n",
        "tf.disable_v2_behavior()\n",
        "\n",
        "import pandas as pd"
      ],
      "execution_count": null,
      "outputs": []
    },
    {
      "cell_type": "code",
      "metadata": {
        "id": "5ZbqOpWCD17e"
      },
      "source": [
        "# Load training data set from CSV file\n",
        "training_data_df = pd.read_csv(\"sales_data_training.csv\")\n",
        "\n",
        "X_training = \n",
        "Y_training = \n",
        "\n",
        "# Load testing data set from CSV file\n",
        "test_data_df =\n",
        "\n",
        "# Pull out columns for X (data to train with) and Y (value to predict)\n",
        "X_testing = \n",
        "Y_testing =\n"
      ],
      "execution_count": null,
      "outputs": []
    },
    {
      "cell_type": "code",
      "metadata": {
        "id": "2rQV7fk4ELF4"
      },
      "source": [
        "# All data needs to be scaled to a small range like 0 to 1 for the neural \n",
        "# Network to work well. Create scalers for the inputs and outputs\n",
        "X_scaler =\n",
        "Y_scaler =\n",
        "\n",
        "# Scale booth the training inputs and outputs\n",
        "X_scaled_training = \n",
        "Y_scaled_training = \n",
        "\n"
      ],
      "execution_count": null,
      "outputs": []
    }
  ]
}