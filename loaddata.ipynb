{
  "nbformat": 4,
  "nbformat_minor": 0,
  "metadata": {
    "colab": {
      "name": "loaddata.ipynb",
      "provenance": [],
      "private_outputs": true,
      "collapsed_sections": [],
      "authorship_tag": "ABX9TyMZFzndCUp+2T6PzT40ozYw",
      "include_colab_link": true
    },
    "kernelspec": {
      "name": "python3",
      "display_name": "Python 3"
    }
  },
  "cells": [
    {
      "cell_type": "markdown",
      "metadata": {
        "id": "view-in-github",
        "colab_type": "text"
      },
      "source": [
        "<a href=\"https://colab.research.google.com/github/Hedsw/kaggleDeepLearning/blob/main/loaddata.ipynb\" target=\"_parent\"><img src=\"https://colab.research.google.com/assets/colab-badge.svg\" alt=\"Open In Colab\"/></a>"
      ]
    },
    {
      "cell_type": "code",
      "metadata": {
        "id": "Nvt0g9C2DuCj"
      },
      "source": [
        "# Declare Libraries\n",
        "import os\n",
        "import io\n",
        "import tensorflow.compat.v1 as tf\n",
        "tf.disable_v2_behavior()\n",
        "\n",
        "import pandas as pd\n",
        "# Google Colab Update Training Data\n",
        "from google.colab import files\n",
        "trainingData = files.upload()\n",
        "# Google Colab update Testing Data\n",
        "from google.colab import files\n",
        "testData = files.upload()"
      ],
      "execution_count": null,
      "outputs": []
    },
    {
      "cell_type": "code",
      "metadata": {
        "id": "5ZbqOpWCD17e"
      },
      "source": [
        "# io and pandas Module use\n",
        "\n",
        "training_data_df = pd.read_csv(io.BytesIO(trainingData['sales_data_training.csv']))\n",
        "\n",
        "# Load training data set from CSV file\n",
        "#training_data_df = pd.read_csv(\"sales_data_training.csv\", dtype=float)\n",
        "\n",
        "X_training = training_data_df.drop('total_earnings', axis=1).values\n",
        "Y_training = training_data_df[['total_earnings']].values\n",
        "\n",
        "# Load testing data set from CSV file\n",
        "test_data_df = pd.read_csv(io.BytesIO(testData['sales_data_test.csv']))\n",
        "\n",
        "\n",
        "# Pull out columns for X (data to train with) and Y (value to predict)\n",
        "X_testing = test_data_df.drop('total_earnings', axis=1).values\n",
        "Y_testing = test_data_df[['total_earnings']].values\n"
      ],
      "execution_count": null,
      "outputs": []
    },
    {
      "cell_type": "code",
      "metadata": {
        "id": "2rQV7fk4ELF4"
      },
      "source": [
        "# All data needs to be scaled to a small range like 0 to 1 for the neural \n",
        "# Network to work well. Create scalers for the inputs and outputs\n",
        "# 0 ~ 1 사이로 줄여줌 스케일 작업 \n",
        "from sklearn.preprocessing import MinMaxScaler\n",
        "X_scaler = MinMaxScaler(feature_range=(0, 1))\n",
        "Y_scaler = MinMaxScaler(feature_range=(0, 1))\n",
        "\n",
        "# Scale both the training inputs and outputs\n",
        "X_scaled_training = X_scaler.fit_transform(X_training)\n",
        "Y_scaled_training = Y_scaler.fit_transform(Y_training)\n",
        "\n",
        "# It's very important that the training and test data are scaled with the same scaler\n",
        "X_scaled_testing = X_scaler.transform(X_testing)\n",
        "Y_scaled_testing = Y_scaler.transform(Y_testing)\n",
        "\n",
        "print(X_scaled_testing.shape)\n",
        "print(Y_scaled_testing.shape)\n",
        "\n",
        "print(\"Note: Y values were scaled by multiplying by {:.10f} and adding {:.4f}\".format(Y_scaler.scale_[0], Y_scaler.min_[0]))"
      ],
      "execution_count": null,
      "outputs": []
    }
  ]
}