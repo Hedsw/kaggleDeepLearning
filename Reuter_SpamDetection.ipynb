{
  "nbformat": 4,
  "nbformat_minor": 0,
  "metadata": {
    "colab": {
      "name": "Reuter_SpamDetection.ipynb",
      "provenance": [],
      "private_outputs": true,
      "authorship_tag": "ABX9TyMSGkkeKKU7PetXOpYRqXGI"
    },
    "kernelspec": {
      "name": "python3",
      "display_name": "Python 3"
    }
  },
  "cells": [
    {
      "cell_type": "code",
      "metadata": {
        "id": "fkJeUrk9kcJr"
      },
      "source": [
        "import pytorch from pt"
      ],
      "execution_count": null,
      "outputs": []
    }
  ]
}