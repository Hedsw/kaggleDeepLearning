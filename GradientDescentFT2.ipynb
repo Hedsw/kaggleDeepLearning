{
  "nbformat": 4,
  "nbformat_minor": 0,
  "metadata": {
    "colab": {
      "name": "GradientDescentFT2.ipynb",
      "provenance": [],
      "private_outputs": true,
      "authorship_tag": "ABX9TyNOo+3MN8LLhhiKFT7Ja7pG"
    },
    "kernelspec": {
      "name": "python3",
      "display_name": "Python 3"
    }
  },
  "cells": [
    {
      "cell_type": "code",
      "metadata": {
        "id": "YxHCjkBTRRSZ"
      },
      "source": [
        "# Lab 3 Minimizing Cost\n",
        "import numpy as np\n",
        "import tensorflow as tf\n",
        "import matplotlib.pyplot as plt\n",
        "\n",
        "x_train = [1, 2, 3, 4]\n",
        "y_train = [0, -1, -2, -3]\n",
        "\n",
        "tf.model = tf.keras.Sequential()\n",
        "tf.model.add(tf.keras.layers.Dense(units=1, input_dim=1))\n",
        "\n",
        "sgd = tf.keras.optimizers.SGD(lr=0.1)\n",
        "tf.model.compile(loss='mse', optimizer=sgd)\n",
        "\n",
        "tf.model.summary()\n",
        "\n",
        "# fit() trains the model and returns history of train\n",
        "history = tf.model.fit(x_train, y_train, epochs=100)\n",
        "\n",
        "y_predict = tf.model.predict(np.array([5, 4]))\n",
        "print(y_predict)\n",
        "\n",
        "# Plot training & validation loss values\n",
        "plt.plot(history.history['loss'])\n",
        "plt.title('Model loss')\n",
        "plt.ylabel('Loss')\n",
        "plt.xlabel('Epoch')\n",
        "plt.legend(['Train', 'Test'], loc='upper left')\n",
        "plt.show()\n"
      ],
      "execution_count": null,
      "outputs": []
    }
  ]
}