{
  "nbformat": 4,
  "nbformat_minor": 0,
  "metadata": {
    "colab": {
      "name": "TensorFlowTest.py",
      "provenance": [],
      "private_outputs": true,
      "authorship_tag": "ABX9TyMFXPmnov7kUeWRdT2MnUFA",
      "include_colab_link": true
    },
    "kernelspec": {
      "name": "python3",
      "display_name": "Python 3"
    }
  },
  "cells": [
    {
      "cell_type": "markdown",
      "metadata": {
        "id": "view-in-github",
        "colab_type": "text"
      },
      "source": [
        "<a href=\"https://colab.research.google.com/github/Hedsw/kaggleDeepLearning/blob/main/TensorFlowTest_py.ipynb\" target=\"_parent\"><img src=\"https://colab.research.google.com/assets/colab-badge.svg\" alt=\"Open In Colab\"/></a>"
      ]
    },
    {
      "cell_type": "code",
      "metadata": {
        "id": "k93VHBQZ2crr"
      },
      "source": [
        "import os\n",
        "import tensorflow.compat.v1 as tf\n",
        "tf.disable_v2_behavior()"
      ],
      "execution_count": null,
      "outputs": []
    },
    {
      "cell_type": "code",
      "metadata": {
        "id": "KSEuSB8z3PKk"
      },
      "source": [
        "os.environ['TF_CPP_MIN_LOG_LEVEL'] = '2'"
      ],
      "execution_count": null,
      "outputs": []
    },
    {
      "cell_type": "code",
      "metadata": {
        "id": "HXuMFJBP3V0h"
      },
      "source": [
        "X = tf.placeholder(tf.float32, name=\"X\")\n",
        "Y = tf.placeholder(tf.float32, name=\"Y\")\n",
        "\n",
        "addition = tf.add(X, Y, name = \"addition\")"
      ],
      "execution_count": null,
      "outputs": []
    },
    {
      "cell_type": "code",
      "metadata": {
        "id": "wXSpq5w73koe"
      },
      "source": [
        "with tf.Session() as session:\n",
        "  result = session.run(addition, feed_dict={X: [[1, 2, 10],[2, 4, 6]], Y: [[4, 2, 10], [1, 2, 3]]})\n",
        "  \n",
        "  print(result)"
      ],
      "execution_count": null,
      "outputs": []
    }
  ]
}